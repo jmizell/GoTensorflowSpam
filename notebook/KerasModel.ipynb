{
 "cells": [
  {
   "cell_type": "code",
   "execution_count": 1,
   "metadata": {},
   "outputs": [],
   "source": [
    "!pip install --user -r requirements.txt > /tmp/pip.log 2>&1 || cat /tmp/pip.log"
   ]
  },
  {
   "cell_type": "markdown",
   "metadata": {},
   "source": [
    "### Shutup Tensorflow"
   ]
  },
  {
   "cell_type": "code",
   "execution_count": 2,
   "metadata": {},
   "outputs": [],
   "source": [
    "import os\n",
    "os.environ['TF_CPP_MIN_LOG_LEVEL'] = '3'"
   ]
  },
  {
   "cell_type": "markdown",
   "metadata": {},
   "source": [
    "**Tell tensorflow to not preallocate memory for each session**"
   ]
  },
  {
   "cell_type": "code",
   "execution_count": 3,
   "metadata": {},
   "outputs": [
    {
     "name": "stderr",
     "output_type": "stream",
     "text": [
      "Using TensorFlow backend.\n"
     ]
    }
   ],
   "source": [
    "## FIX CUDA_ERROR_OUT_OF_MEMORY\n",
    "import keras.backend as K\n",
    "\n",
    "config = K.tf.ConfigProto()\n",
    "config.gpu_options.allow_growth = True\n",
    "session = K.tf.Session(config=config)"
   ]
  },
  {
   "cell_type": "markdown",
   "metadata": {},
   "source": [
    "### Imports"
   ]
  },
  {
   "cell_type": "code",
   "execution_count": 4,
   "metadata": {},
   "outputs": [],
   "source": [
    "import re\n",
    "import glob\n",
    "import email\n",
    "import time \n",
    "import json\n",
    "\n",
    "import tensorflow as tf\n",
    "import numpy as np\n",
    "import pandas as pd\n",
    "import matplotlib.pyplot as plt\n",
    "\n",
    "from random import shuffle\n",
    "from bs4 import BeautifulSoup\n",
    "from flanker import mime\n",
    "from zipfile import ZipFile\n",
    "\n",
    "from geoip2 import database as geoip_database\n",
    "from geoip2 import errors as geoip_errors\n",
    "\n",
    "from sklearn.preprocessing import MinMaxScaler\n",
    "from sklearn.model_selection import train_test_split\n",
    "from sklearn.metrics import confusion_matrix\n",
    "from sklearn.utils.multiclass import unique_labels\n",
    "from sklearn.utils.class_weight import compute_class_weight\n",
    "\n",
    "from keras.models import Sequential\n",
    "from keras.layers import Dense\n",
    "from keras.layers import LSTM\n",
    "from keras.layers import Dropout\n",
    "from keras.preprocessing.text import Tokenizer\n",
    "from keras.callbacks import EarlyStopping, ProgbarLogger\n",
    "\n",
    "from tensorflow.python.saved_model import tag_constants, signature_constants\n",
    "from tensorflow.python.saved_model import builder as saved_model_builder\n",
    "from tensorflow.python.saved_model.signature_def_utils_impl import predict_signature_def\n",
    "from tensorflow.python.saved_model.signature_def_utils import is_valid_signature"
   ]
  },
  {
   "cell_type": "markdown",
   "metadata": {},
   "source": [
    "**Not a fan of the wide margins in Jupyter Notebooks. This code snipit removes those margins.**"
   ]
  },
  {
   "cell_type": "code",
   "execution_count": 5,
   "metadata": {},
   "outputs": [
    {
     "data": {
      "text/html": [
       "<style>.container { width:100% !important; }</style>"
      ],
      "text/plain": [
       "<IPython.core.display.HTML object>"
      ]
     },
     "metadata": {},
     "output_type": "display_data"
    }
   ],
   "source": [
    "## FIX MARGINS\n",
    "from IPython.core.display import display, HTML\n",
    "display(HTML(\"<style>.container { width:100% !important; }</style>\"))"
   ]
  },
  {
   "cell_type": "markdown",
   "metadata": {},
   "source": [
    "### Init GeoIP lookup"
   ]
  },
  {
   "cell_type": "code",
   "execution_count": 6,
   "metadata": {},
   "outputs": [],
   "source": [
    "# Uncomment this section to download the geoip database\n",
    "# curl https://geolite.maxmind.com/download/geoip/database/GeoLite2-City_20190326.tar.gz | tar -xzv"
   ]
  },
  {
   "cell_type": "code",
   "execution_count": 7,
   "metadata": {},
   "outputs": [],
   "source": [
    "geoip = geoip_database.Reader('GeoLite2-City_20190326/GeoLite2-City.mmdb')"
   ]
  },
  {
   "cell_type": "markdown",
   "metadata": {},
   "source": [
    "### Grok Patterns\n",
    "https://github.com/elastic/logstash/blob/v1.4.2/patterns/grok-patterns"
   ]
  },
  {
   "cell_type": "code",
   "execution_count": 8,
   "metadata": {},
   "outputs": [],
   "source": [
    "RE_IPV6 = r\"((([0-9A-Fa-f]{1,4}:){7}([0-9A-Fa-f]{1,4}|:))|(([0-9A-Fa-f]{1,4}:){6}(:[0-9A-Fa-f]{1,4}|((25[0-5]|2[0-4]\\d|1\\d\\d|[1-9]?\\d)(\\.(25[0-5]|2[0-4]\\d|1\\d\\d|[1-9]?\\d)){3})|:))|(([0-9A-Fa-f]{1,4}:){5}(((:[0-9A-Fa-f]{1,4}){1,2})|:((25[0-5]|2[0-4]\\d|1\\d\\d|[1-9]?\\d)(\\.(25[0-5]|2[0-4]\\d|1\\d\\d|[1-9]?\\d)){3})|:))|(([0-9A-Fa-f]{1,4}:){4}(((:[0-9A-Fa-f]{1,4}){1,3})|((:[0-9A-Fa-f]{1,4})?:((25[0-5]|2[0-4]\\d|1\\d\\d|[1-9]?\\d)(\\.(25[0-5]|2[0-4]\\d|1\\d\\d|[1-9]?\\d)){3}))|:))|(([0-9A-Fa-f]{1,4}:){3}(((:[0-9A-Fa-f]{1,4}){1,4})|((:[0-9A-Fa-f]{1,4}){0,2}:((25[0-5]|2[0-4]\\d|1\\d\\d|[1-9]?\\d)(\\.(25[0-5]|2[0-4]\\d|1\\d\\d|[1-9]?\\d)){3}))|:))|(([0-9A-Fa-f]{1,4}:){2}(((:[0-9A-Fa-f]{1,4}){1,5})|((:[0-9A-Fa-f]{1,4}){0,3}:((25[0-5]|2[0-4]\\d|1\\d\\d|[1-9]?\\d)(\\.(25[0-5]|2[0-4]\\d|1\\d\\d|[1-9]?\\d)){3}))|:))|(([0-9A-Fa-f]{1,4}:){1}(((:[0-9A-Fa-f]{1,4}){1,6})|((:[0-9A-Fa-f]{1,4}){0,4}:((25[0-5]|2[0-4]\\d|1\\d\\d|[1-9]?\\d)(\\.(25[0-5]|2[0-4]\\d|1\\d\\d|[1-9]?\\d)){3}))|:))|(:(((:[0-9A-Fa-f]{1,4}){1,7})|((:[0-9A-Fa-f]{1,4}){0,5}:((25[0-5]|2[0-4]\\d|1\\d\\d|[1-9]?\\d)(\\.(25[0-5]|2[0-4]\\d|1\\d\\d|[1-9]?\\d)){3}))|:)))(%.+)?\"\n",
    "RE_IPV4 = r\"(?<![0-9])(?:(?:25[0-5]|2[0-4][0-9]|[0-1]?[0-9]{1,2})[.](?:25[0-5]|2[0-4][0-9]|[0-1]?[0-9]{1,2})[.](?:25[0-5]|2[0-4][0-9]|[0-1]?[0-9]{1,2})[.](?:25[0-5]|2[0-4][0-9]|[0-1]?[0-9]{1,2}))(?![0-9])\"\n",
    "RE_IP = r\"(?:%s|%s)\" % (RE_IPV6, RE_IPV4)\n",
    "RE_HOSTNAME = r\"\\b(?:[0-9A-Za-z][0-9A-Za-z-]{0,62})(?:\\.(?:[0-9A-Za-z][0-9A-Za-z-]{0,62}))*(\\.?|\\b)\"\n",
    "RE_IPORHOST = r\"(?:%s|(?P<HOST>%s))\" % (RE_IP, RE_HOSTNAME)\n",
    "RE_POSINT = r\"\\b(?:[1-9][0-9]*)\\b\"\n",
    "RE_USERNAME = r\"[a-zA-Z0-9._-]+\"\n",
    "RE_URIPROTO = r\"[A-Za-z]+(\\+[A-Za-z+]+)?\"\n",
    "RE_URIHOST = r\"%s(?::%s)?\" % (RE_IPORHOST, RE_POSINT)\n",
    "RE_URIPATH = r\"(?:/[A-Za-z0-9$.+!*'(){},~:;=@#%_\\-]*)+\"\n",
    "RE_URIPARAM = r\"\\?[A-Za-z0-9$.+!*'|(){},~@#%&/=:;_?\\-\\[\\]]*\"\n",
    "RE_URIPATHPARAM = r\"%s(?:%s)?\" % (RE_URIPATH, RE_URIPARAM)\n",
    "RE_URI = r\"%s://(?:%s(?::[^@]*)?@)?(?:%s)?(?:%s)?\" % (RE_URIPROTO, RE_USERNAME, RE_URIHOST, RE_URIPATHPARAM)"
   ]
  },
  {
   "cell_type": "markdown",
   "metadata": {},
   "source": [
    "### Dataset Parsing"
   ]
  },
  {
   "cell_type": "code",
   "execution_count": 9,
   "metadata": {
    "scrolled": false
   },
   "outputs": [
    {
     "name": "stdout",
     "output_type": "stream",
     "text": [
      "Found 9063 clean emails\n",
      "Found 2967 spam emails\n",
      "Loaded 12028 emails\n",
      "Elapsed time 93.88229274749756\n"
     ]
    }
   ],
   "source": [
    "start_time = time.time()\n",
    "\n",
    "data = pd.DataFrame(columns = [\"class\", \"text\"]) \n",
    "\n",
    "data_clean_files = list(glob.glob(\"data/clean/*.eml\"))\n",
    "print(\"Found %i clean emails\" % len(data_clean_files))\n",
    "\n",
    "data_spam_files = list(glob.glob(\"data/spam/*.eml\"))\n",
    "print(\"Found %i spam emails\" % len(data_spam_files))\n",
    "\n",
    "data_files = list(zip(data_clean_files, [0] * len(data_clean_files)))\n",
    "data_files = data_files + list(zip(data_spam_files, [1] * len(data_spam_files)))\n",
    "shuffle(data_files)\n",
    "\n",
    "re_non_word = re.compile('[^\\w,\\.]+')\n",
    "re_numbers = re.compile('(?<=[\\s_\\.,-])\\d+(?=[\\s_\\.,-])')\n",
    "re_uri = re.compile(RE_URI)\n",
    "\n",
    "for email_file, data_class in data_files:\n",
    "\n",
    "    with open(email_file, \"rb\") as f:\n",
    "        rfc822_message = f.read()\n",
    "\n",
    "    # parse the message \n",
    "    email_message = email.message_from_bytes(rfc822_message)\n",
    "\n",
    "    # detect country from ip\n",
    "    country = \"\"\n",
    "    if email_message.get('X-Originating-Ip'):\n",
    "        ip = re.sub(r'\\[|\\]', '', email_message.get('X-Originating-Ip'))\n",
    "        try:\n",
    "            country = str(geoip.city(ip).country.iso_code)\n",
    "        except geoip_errors.AddressNotFoundError:\n",
    "            pass\n",
    "    \n",
    "    # extract the message body\n",
    "    message_text = b\"\"\n",
    "    message_html = b\"\"\n",
    "    for part in email_message.walk():\n",
    "        if part.get_content_type() == \"text/html\":\n",
    "            message_html += part.get_payload(decode=True)\n",
    "        if part.get_content_type() == \"text/plain\":\n",
    "            message_text += part.get_payload(decode=True)\n",
    "    \n",
    "    # convert byte strings to ascii\n",
    "    message_text = message_text.decode(\"utf-8\", errors=\"ignore\")\n",
    "    message_html = message_html.decode(\"utf-8\", errors=\"ignore\")\n",
    "    \n",
    "    # convert html to text if no plain text body\n",
    "    if message_html != \"\" and message_text == \"\":\n",
    "        soup = BeautifulSoup(message_html, 'html.parser')\n",
    "        message_text = soup.get_text()\n",
    "\n",
    "    # drop emails that cannot be decoded to text\n",
    "    if message_text == \"\":\n",
    "        continue\n",
    "\n",
    "    text = \"%s %s\" % (email_message.get('Subject'), message_text)\n",
    "        \n",
    "    # remove line breaks\n",
    "    text = text.replace('\\n', ' ')\n",
    "    text = text.replace('\\r', '')\n",
    "    \n",
    "    # replace links with just the domain\n",
    "    text =  re_uri.sub(r\"\\g<HOST>\", text)\n",
    "    \n",
    "    text = re_non_word.sub(' ', text)\n",
    "    \n",
    "    # shrink whitespace \n",
    "    text = re.sub(r\"\\s+\", \" \", text)\n",
    "    \n",
    "    # replace numbers with 0000\n",
    "    text =  re_numbers.sub('0000', text)\n",
    "\n",
    "    # covert all text to lower case\n",
    "    text =  text.lower()\n",
    "\n",
    "    eml = {\n",
    "        \"class\": data_class,\n",
    "        \"text\": text, \n",
    "    }\n",
    "    data = data.append(eml, ignore_index=True)\n",
    "\n",
    "print(\"Loaded %i emails\" % len(data))\n",
    "print(\"Elapsed time\", time.time() - start_time)"
   ]
  },
  {
   "cell_type": "markdown",
   "metadata": {},
   "source": [
    "### Text to sequence vectors\n",
    "\n",
    "Keras text processing utility to convert text to sequences http://faroit.com/keras-docs/1.2.2/preprocessing/text/#tokenizer"
   ]
  },
  {
   "cell_type": "code",
   "execution_count": 10,
   "metadata": {},
   "outputs": [
    {
     "name": "stdout",
     "output_type": "stream",
     "text": [
      "Elapsed time 3.48954176902771\n",
      "44792 tokens in corpus\n"
     ]
    }
   ],
   "source": [
    "start_time = time.time()\n",
    "tokenizer = Tokenizer()\n",
    "tokenizer.fit_on_texts(list(data[\"text\"]))\n",
    "data[\"text_sequence\"] = list(tokenizer.texts_to_sequences(list(data[\"text\"])))\n",
    "print(\"Elapsed time\", time.time() - start_time)\n",
    "\n",
    "print(\"%i tokens in corpus\" % (len(tokenizer.index_word)))"
   ]
  },
  {
   "cell_type": "code",
   "execution_count": 11,
   "metadata": {},
   "outputs": [
    {
     "data": {
      "text/html": [
       "<div>\n",
       "<style scoped>\n",
       "    .dataframe tbody tr th:only-of-type {\n",
       "        vertical-align: middle;\n",
       "    }\n",
       "\n",
       "    .dataframe tbody tr th {\n",
       "        vertical-align: top;\n",
       "    }\n",
       "\n",
       "    .dataframe thead th {\n",
       "        text-align: right;\n",
       "    }\n",
       "</style>\n",
       "<table border=\"1\" class=\"dataframe\">\n",
       "  <thead>\n",
       "    <tr style=\"text-align: right;\">\n",
       "      <th></th>\n",
       "      <th>class</th>\n",
       "      <th>text</th>\n",
       "      <th>text_sequence</th>\n",
       "    </tr>\n",
       "  </thead>\n",
       "  <tbody>\n",
       "    <tr>\n",
       "      <th>0</th>\n",
       "      <td>1</td>\n",
       "      <td>keto control...burn fat with zero exercise ket...</td>\n",
       "      <td>[1812, 1115, 2458, 1640, 28, 2821, 1821, 1812,...</td>\n",
       "    </tr>\n",
       "    <tr>\n",
       "      <th>1</th>\n",
       "      <td>0</td>\n",
       "      <td>christian brown s invitation is waiting for yo...</td>\n",
       "      <td>[6237, 2477, 24, 2796, 19, 2231, 12, 13, 822, ...</td>\n",
       "    </tr>\n",
       "    <tr>\n",
       "      <th>2</th>\n",
       "      <td>0</td>\n",
       "      <td>utf 0000 q weekly_coding_challenges _template...</td>\n",
       "      <td>[374, 1, 434, 235, 3180, 2008, 1290, 3181, 455...</td>\n",
       "    </tr>\n",
       "    <tr>\n",
       "      <th>3</th>\n",
       "      <td>0</td>\n",
       "      <td>re wp co reminder conference call tonight 8pm ...</td>\n",
       "      <td>[84, 527, 160, 1065, 275, 114, 613, 1061, 616,...</td>\n",
       "    </tr>\n",
       "    <tr>\n",
       "      <th>4</th>\n",
       "      <td>1</td>\n",
       "      <td>big pharma doesn t wan t you read this big pha...</td>\n",
       "      <td>[326, 4843, 889, 74, 7927, 74, 7, 400, 9, 326,...</td>\n",
       "    </tr>\n",
       "  </tbody>\n",
       "</table>\n",
       "</div>"
      ],
      "text/plain": [
       "  class                                               text  \\\n",
       "0     1  keto control...burn fat with zero exercise ket...   \n",
       "1     0  christian brown s invitation is waiting for yo...   \n",
       "2     0   utf 0000 q weekly_coding_challenges _template...   \n",
       "3     0  re wp co reminder conference call tonight 8pm ...   \n",
       "4     1  big pharma doesn t wan t you read this big pha...   \n",
       "\n",
       "                                       text_sequence  \n",
       "0  [1812, 1115, 2458, 1640, 28, 2821, 1821, 1812,...  \n",
       "1  [6237, 2477, 24, 2796, 19, 2231, 12, 13, 822, ...  \n",
       "2  [374, 1, 434, 235, 3180, 2008, 1290, 3181, 455...  \n",
       "3  [84, 527, 160, 1065, 275, 114, 613, 1061, 616,...  \n",
       "4  [326, 4843, 889, 74, 7927, 74, 7, 400, 9, 326,...  "
      ]
     },
     "execution_count": 11,
     "metadata": {},
     "output_type": "execute_result"
    }
   ],
   "source": [
    "data.head()"
   ]
  },
  {
   "cell_type": "markdown",
   "metadata": {},
   "source": [
    "### Trim and pad sequences\n",
    "\n",
    "Standardize the length of each vector."
   ]
  },
  {
   "cell_type": "code",
   "execution_count": 12,
   "metadata": {},
   "outputs": [
    {
     "name": "stdout",
     "output_type": "stream",
     "text": [
      "Longest text sequence is 19860\n",
      "Shortest text sequence is 0\n"
     ]
    }
   ],
   "source": [
    "print(\"Longest text sequence is %i\" % data[\"text_sequence\"].apply(lambda x: len(x)).max())\n",
    "print(\"Shortest text sequence is %i\" % data[\"text_sequence\"].apply(lambda x: len(x)).min())"
   ]
  },
  {
   "cell_type": "code",
   "execution_count": 13,
   "metadata": {},
   "outputs": [],
   "source": [
    "max_sequence_length = 300\n",
    "data[\"text_sequence\"] = data[\"text_sequence\"].apply(lambda x: x[0:max_sequence_length] if len(x) >= max_sequence_length else x + [0] * (max_sequence_length - len(x)))"
   ]
  },
  {
   "cell_type": "code",
   "execution_count": 14,
   "metadata": {},
   "outputs": [
    {
     "name": "stdout",
     "output_type": "stream",
     "text": [
      "Longest text sequence is 300\n",
      "Shortest text sequence is 300\n"
     ]
    }
   ],
   "source": [
    "print(\"Longest text sequence is %i\" % data[\"text_sequence\"].apply(lambda x: len(x)).max())\n",
    "print(\"Shortest text sequence is %i\" % data[\"text_sequence\"].apply(lambda x: len(x)).min())"
   ]
  },
  {
   "cell_type": "markdown",
   "metadata": {},
   "source": [
    "### Split Test and Train "
   ]
  },
  {
   "cell_type": "code",
   "execution_count": 15,
   "metadata": {},
   "outputs": [
    {
     "name": "stdout",
     "output_type": "stream",
     "text": [
      "X_train 8058 (8058, 300, 1)\n",
      "y_train 8058 (8058,)\n",
      "X_test 3970 (3970, 300, 1)\n",
      "y_test 3970 (3970,)\n"
     ]
    }
   ],
   "source": [
    "# Split data into examples, and labels\n",
    "X = np.array(list(data[\"text_sequence\"]))\n",
    "y = np.array(list(data[\"class\"]))\n",
    "\n",
    "# reshape the example data\n",
    "X = np.reshape(X, (X.shape[0], X.shape[1], 1))\n",
    "\n",
    "# split into test, train\n",
    "X_train, X_test, y_train, y_test = train_test_split(X, y, test_size=0.33, shuffle=True)\n",
    "\n",
    "print(\"X_train\", len(X_train), X_train.shape)\n",
    "print(\"y_train\", len(y_train), y_train.shape)\n",
    "print(\"X_test\", len(X_test), X_test.shape)\n",
    "print(\"y_test\", len(y_test), y_test.shape)"
   ]
  },
  {
   "cell_type": "markdown",
   "metadata": {},
   "source": [
    "### Compute class weights"
   ]
  },
  {
   "cell_type": "code",
   "execution_count": 16,
   "metadata": {},
   "outputs": [
    {
     "data": {
      "text/plain": [
       "{0: 0.6637236508111688, 1: 2.0269632625547693}"
      ]
     },
     "execution_count": 16,
     "metadata": {},
     "output_type": "execute_result"
    }
   ],
   "source": [
    "classes = np.unique(y)\n",
    "class_weights = {}\n",
    "for i, w in enumerate(compute_class_weight(class_weight='balanced', classes=classes, y=y)):\n",
    "    class_weights[int(classes[i])] = float(w)\n",
    "    \n",
    "class_weights"
   ]
  },
  {
   "cell_type": "markdown",
   "metadata": {},
   "source": [
    "### Define the LSTM model"
   ]
  },
  {
   "cell_type": "code",
   "execution_count": 17,
   "metadata": {
    "scrolled": false
   },
   "outputs": [
    {
     "name": "stdout",
     "output_type": "stream",
     "text": [
      "WARNING:tensorflow:From /usr/local/lib/python3.5/dist-packages/tensorflow/python/framework/op_def_library.py:263: colocate_with (from tensorflow.python.framework.ops) is deprecated and will be removed in a future version.\n",
      "Instructions for updating:\n",
      "Colocations handled automatically by placer.\n",
      "WARNING:tensorflow:From /home/jmizell/.local/lib/python3.5/site-packages/keras/backend/tensorflow_backend.py:3445: calling dropout (from tensorflow.python.ops.nn_ops) with keep_prob is deprecated and will be removed in a future version.\n",
      "Instructions for updating:\n",
      "Please use `rate` instead of `keep_prob`. Rate should be set to `rate = 1 - keep_prob`.\n",
      "_________________________________________________________________\n",
      "Layer (type)                 Output Shape              Param #   \n",
      "=================================================================\n",
      "lstm_1 (LSTM)                (None, 300, 300)          362400    \n",
      "_________________________________________________________________\n",
      "dropout_1 (Dropout)          (None, 300, 300)          0         \n",
      "_________________________________________________________________\n",
      "lstm_2 (LSTM)                (None, 300, 300)          721200    \n",
      "_________________________________________________________________\n",
      "dropout_2 (Dropout)          (None, 300, 300)          0         \n",
      "_________________________________________________________________\n",
      "lstm_3 (LSTM)                (None, 300, 300)          721200    \n",
      "_________________________________________________________________\n",
      "dropout_3 (Dropout)          (None, 300, 300)          0         \n",
      "_________________________________________________________________\n",
      "lstm_4 (LSTM)                (None, 300)               721200    \n",
      "_________________________________________________________________\n",
      "dropout_4 (Dropout)          (None, 300)               0         \n",
      "_________________________________________________________________\n",
      "dense_1 (Dense)              (None, 1)                 301       \n",
      "=================================================================\n",
      "Total params: 2,526,301\n",
      "Trainable params: 2,526,301\n",
      "Non-trainable params: 0\n",
      "_________________________________________________________________\n"
     ]
    }
   ],
   "source": [
    "model = Sequential()\n",
    "model.add(LSTM(units=300, return_sequences=True, input_shape=(X_train.shape[1], 1)))\n",
    "model.add(Dropout(0.1))\n",
    "model.add(LSTM(units=300, return_sequences=True))\n",
    "model.add(Dropout(0.1))\n",
    "model.add(LSTM(units=300, return_sequences=True))\n",
    "model.add(Dropout(0.1))\n",
    "model.add(LSTM(units=300))\n",
    "model.add(Dropout(0.1))\n",
    "model.add(Dense(units=1, activation='sigmoid'))\n",
    "\n",
    "metrics = ['binary_accuracy']\n",
    "model.compile(optimizer='adam', loss='binary_crossentropy', metrics=metrics)\n",
    "model.summary()"
   ]
  },
  {
   "cell_type": "markdown",
   "metadata": {},
   "source": [
    "### Training!"
   ]
  },
  {
   "cell_type": "code",
   "execution_count": 18,
   "metadata": {
    "scrolled": false
   },
   "outputs": [
    {
     "name": "stdout",
     "output_type": "stream",
     "text": [
      "WARNING:tensorflow:From /usr/local/lib/python3.5/dist-packages/tensorflow/python/ops/math_ops.py:3066: to_int32 (from tensorflow.python.ops.math_ops) is deprecated and will be removed in a future version.\n",
      "Instructions for updating:\n",
      "Use tf.cast instead.\n"
     ]
    },
    {
     "name": "stderr",
     "output_type": "stream",
     "text": [
      "/home/jmizell/.local/lib/python3.5/site-packages/ipykernel_launcher.py:2: UserWarning: The `nb_epoch` argument in `fit` has been renamed `epochs`.\n",
      "  \n"
     ]
    },
    {
     "name": "stdout",
     "output_type": "stream",
     "text": [
      "Train on 6446 samples, validate on 1612 samples\n",
      "Epoch 1/100\n",
      "6446/6446 [==============================] - 69s 11ms/step - loss: 0.6438 - binary_accuracy: 0.6306 - val_loss: 0.4615 - val_binary_accuracy: 0.8065\n",
      "Epoch 2/100\n",
      "6446/6446 [==============================] - 65s 10ms/step - loss: 0.4141 - binary_accuracy: 0.8703 - val_loss: 0.5693 - val_binary_accuracy: 0.8306\n",
      "Epoch 3/100\n",
      "6446/6446 [==============================] - 66s 10ms/step - loss: 0.4126 - binary_accuracy: 0.8726 - val_loss: 0.3862 - val_binary_accuracy: 0.8772\n",
      "Epoch 4/100\n",
      "6446/6446 [==============================] - 66s 10ms/step - loss: 0.3866 - binary_accuracy: 0.8809 - val_loss: 0.3713 - val_binary_accuracy: 0.8548\n",
      "Epoch 5/100\n",
      "6446/6446 [==============================] - 66s 10ms/step - loss: 0.3786 - binary_accuracy: 0.8709 - val_loss: 0.3711 - val_binary_accuracy: 0.8536\n",
      "Epoch 6/100\n",
      "6446/6446 [==============================] - 67s 10ms/step - loss: 0.3909 - binary_accuracy: 0.8591 - val_loss: 0.3583 - val_binary_accuracy: 0.8629\n",
      "Epoch 7/100\n",
      "6446/6446 [==============================] - 65s 10ms/step - loss: 0.3765 - binary_accuracy: 0.8714 - val_loss: 0.3469 - val_binary_accuracy: 0.8635\n",
      "Epoch 8/100\n",
      "6446/6446 [==============================] - 66s 10ms/step - loss: 0.3624 - binary_accuracy: 0.8672 - val_loss: 0.3485 - val_binary_accuracy: 0.8462\n",
      "Epoch 9/100\n",
      "6446/6446 [==============================] - 66s 10ms/step - loss: 0.3521 - binary_accuracy: 0.8652 - val_loss: 0.3453 - val_binary_accuracy: 0.8635\n",
      "Epoch 10/100\n",
      "6446/6446 [==============================] - 66s 10ms/step - loss: 0.3759 - binary_accuracy: 0.8590 - val_loss: 0.3831 - val_binary_accuracy: 0.8511\n",
      "Epoch 11/100\n",
      "6446/6446 [==============================] - 66s 10ms/step - loss: 0.3613 - binary_accuracy: 0.8621 - val_loss: 0.3479 - val_binary_accuracy: 0.8486\n",
      "Epoch 12/100\n",
      "6446/6446 [==============================] - 66s 10ms/step - loss: 0.3715 - binary_accuracy: 0.8667 - val_loss: 0.3789 - val_binary_accuracy: 0.8337\n",
      "Epoch 13/100\n",
      "6446/6446 [==============================] - 66s 10ms/step - loss: 0.3458 - binary_accuracy: 0.8708 - val_loss: 0.3189 - val_binary_accuracy: 0.8679\n",
      "Epoch 14/100\n",
      "6446/6446 [==============================] - 66s 10ms/step - loss: 0.3272 - binary_accuracy: 0.8608 - val_loss: 0.2890 - val_binary_accuracy: 0.8852\n",
      "Epoch 15/100\n",
      "6446/6446 [==============================] - 66s 10ms/step - loss: 0.3165 - binary_accuracy: 0.8875 - val_loss: 0.3192 - val_binary_accuracy: 0.9107\n",
      "Epoch 16/100\n",
      "6446/6446 [==============================] - 66s 10ms/step - loss: 0.3383 - binary_accuracy: 0.8888 - val_loss: 0.3201 - val_binary_accuracy: 0.8914\n",
      "Epoch 17/100\n",
      "6446/6446 [==============================] - 67s 10ms/step - loss: 0.2978 - binary_accuracy: 0.8824 - val_loss: 0.2543 - val_binary_accuracy: 0.9181\n",
      "Epoch 18/100\n",
      "6446/6446 [==============================] - 67s 10ms/step - loss: 0.2790 - binary_accuracy: 0.9016 - val_loss: 0.2836 - val_binary_accuracy: 0.9107\n",
      "Epoch 19/100\n",
      "6446/6446 [==============================] - 67s 10ms/step - loss: 0.2646 - binary_accuracy: 0.9010 - val_loss: 0.2568 - val_binary_accuracy: 0.8710\n",
      "Epoch 20/100\n",
      "6446/6446 [==============================] - 66s 10ms/step - loss: 0.2918 - binary_accuracy: 0.8925 - val_loss: 0.2619 - val_binary_accuracy: 0.9014\n",
      "Epoch 21/100\n",
      "6446/6446 [==============================] - 66s 10ms/step - loss: 0.2735 - binary_accuracy: 0.8985 - val_loss: 0.2301 - val_binary_accuracy: 0.9069\n",
      "Epoch 22/100\n",
      "6446/6446 [==============================] - 68s 11ms/step - loss: 0.2679 - binary_accuracy: 0.9103 - val_loss: 0.2259 - val_binary_accuracy: 0.9311\n",
      "Epoch 23/100\n",
      "6446/6446 [==============================] - 66s 10ms/step - loss: 0.2515 - binary_accuracy: 0.9075 - val_loss: 0.2279 - val_binary_accuracy: 0.8896\n",
      "Epoch 24/100\n",
      "6446/6446 [==============================] - 66s 10ms/step - loss: 0.2346 - binary_accuracy: 0.9207 - val_loss: 0.2154 - val_binary_accuracy: 0.9156\n",
      "Epoch 25/100\n",
      "6446/6446 [==============================] - 66s 10ms/step - loss: 0.2177 - binary_accuracy: 0.9207 - val_loss: 0.1864 - val_binary_accuracy: 0.9435\n",
      "Epoch 26/100\n",
      "6446/6446 [==============================] - 66s 10ms/step - loss: 0.2598 - binary_accuracy: 0.8985 - val_loss: 0.2194 - val_binary_accuracy: 0.9100\n",
      "Epoch 27/100\n",
      "6446/6446 [==============================] - 66s 10ms/step - loss: 0.2257 - binary_accuracy: 0.9297 - val_loss: 0.1952 - val_binary_accuracy: 0.9392\n",
      "Epoch 28/100\n",
      "6446/6446 [==============================] - 66s 10ms/step - loss: 0.2120 - binary_accuracy: 0.9333 - val_loss: 0.2187 - val_binary_accuracy: 0.9212\n",
      "Epoch 29/100\n",
      "6446/6446 [==============================] - 65s 10ms/step - loss: 0.2077 - binary_accuracy: 0.9327 - val_loss: 0.2537 - val_binary_accuracy: 0.9200\n",
      "Epoch 30/100\n",
      "6446/6446 [==============================] - 66s 10ms/step - loss: 0.1992 - binary_accuracy: 0.9424 - val_loss: 0.1613 - val_binary_accuracy: 0.9423\n",
      "Epoch 31/100\n",
      "6446/6446 [==============================] - 66s 10ms/step - loss: 0.2117 - binary_accuracy: 0.9328 - val_loss: 0.2027 - val_binary_accuracy: 0.9218\n",
      "Epoch 32/100\n",
      "6446/6446 [==============================] - 65s 10ms/step - loss: 0.1847 - binary_accuracy: 0.9401 - val_loss: 0.1569 - val_binary_accuracy: 0.9510\n",
      "Epoch 33/100\n",
      "6446/6446 [==============================] - 66s 10ms/step - loss: 0.1768 - binary_accuracy: 0.9462 - val_loss: 0.1632 - val_binary_accuracy: 0.9460\n",
      "Epoch 34/100\n",
      "6446/6446 [==============================] - 67s 10ms/step - loss: 0.1571 - binary_accuracy: 0.9487 - val_loss: 0.1522 - val_binary_accuracy: 0.9423\n",
      "Epoch 35/100\n",
      "6446/6446 [==============================] - 68s 11ms/step - loss: 0.1489 - binary_accuracy: 0.9544 - val_loss: 0.1391 - val_binary_accuracy: 0.9609\n",
      "Epoch 36/100\n",
      "6446/6446 [==============================] - 67s 10ms/step - loss: 0.1564 - binary_accuracy: 0.9494 - val_loss: 0.1860 - val_binary_accuracy: 0.9181\n",
      "Epoch 37/100\n",
      "6446/6446 [==============================] - 66s 10ms/step - loss: 0.2308 - binary_accuracy: 0.9283 - val_loss: 0.1688 - val_binary_accuracy: 0.9535\n",
      "Epoch 38/100\n",
      "6446/6446 [==============================] - 67s 10ms/step - loss: 0.1773 - binary_accuracy: 0.9499 - val_loss: 0.1710 - val_binary_accuracy: 0.9578\n",
      "Epoch 39/100\n",
      "6446/6446 [==============================] - 66s 10ms/step - loss: 0.1765 - binary_accuracy: 0.9490 - val_loss: 0.1455 - val_binary_accuracy: 0.9491\n",
      "Epoch 40/100\n",
      "6446/6446 [==============================] - 67s 10ms/step - loss: 0.1603 - binary_accuracy: 0.9491 - val_loss: 0.1386 - val_binary_accuracy: 0.9646\n",
      "Epoch 41/100\n",
      "6446/6446 [==============================] - 66s 10ms/step - loss: 0.1490 - binary_accuracy: 0.9556 - val_loss: 0.1535 - val_binary_accuracy: 0.9566\n",
      "Epoch 42/100\n",
      "6446/6446 [==============================] - 69s 11ms/step - loss: 0.1487 - binary_accuracy: 0.9566 - val_loss: 0.1338 - val_binary_accuracy: 0.9622\n",
      "Epoch 43/100\n",
      "6446/6446 [==============================] - 68s 11ms/step - loss: 0.1361 - binary_accuracy: 0.9601 - val_loss: 0.1387 - val_binary_accuracy: 0.9609\n",
      "Epoch 44/100\n",
      "6446/6446 [==============================] - 69s 11ms/step - loss: 0.1340 - binary_accuracy: 0.9606 - val_loss: 0.1383 - val_binary_accuracy: 0.9597\n",
      "Epoch 45/100\n",
      "6446/6446 [==============================] - 68s 11ms/step - loss: 0.1427 - binary_accuracy: 0.9552 - val_loss: 0.1534 - val_binary_accuracy: 0.9324\n",
      "Epoch 46/100\n",
      "6446/6446 [==============================] - 67s 10ms/step - loss: 0.1240 - binary_accuracy: 0.9628 - val_loss: 0.1451 - val_binary_accuracy: 0.9615\n",
      "Epoch 47/100\n",
      "6446/6446 [==============================] - 68s 11ms/step - loss: 0.1417 - binary_accuracy: 0.9581 - val_loss: 0.1541 - val_binary_accuracy: 0.9491\n",
      "Restoring model weights from the end of the best epoch\n",
      "Epoch 00047: early stopping\n"
     ]
    },
    {
     "data": {
      "image/png": "[encoded data removed]",
      "text/plain": [
       "<Figure size 432x288 with 1 Axes>"
      ]
     },
     "metadata": {
      "needs_background": "light"
     },
     "output_type": "display_data"
    },
    {
     "data": {
      "image/png": "[encoded data removed]",
      "text/plain": [
       "<Figure size 432x288 with 1 Axes>"
      ]
     },
     "metadata": {
      "needs_background": "light"
     },
     "output_type": "display_data"
    }
   ],
   "source": [
    "early_stoping = EarlyStopping(monitor='val_loss', patience=5, verbose=1, restore_best_weights=True)\n",
    "history = model.fit(X_train, y_train, batch_size=128, nb_epoch=100, validation_split=0.2, verbose=1, callbacks=[early_stoping], class_weight=class_weights)\n",
    "\n",
    "# Plot training & validation accuracy values\n",
    "plt.plot(history.history['binary_accuracy'])\n",
    "plt.plot(history.history['val_binary_accuracy'])\n",
    "plt.title('Model accuracy')\n",
    "plt.ylabel('Accuracy')\n",
    "plt.xlabel('Epoch')\n",
    "plt.legend(['Train', 'Test'], loc='upper left')\n",
    "plt.show()\n",
    "\n",
    "# Plot training & validation loss values\n",
    "plt.plot(history.history['loss'])\n",
    "plt.plot(history.history['val_loss'])\n",
    "plt.title('Model loss')\n",
    "plt.ylabel('Loss')\n",
    "plt.xlabel('Epoch')\n",
    "plt.legend(['Train', 'Test'], loc='upper left')\n",
    "plt.show()"
   ]
  },
  {
   "cell_type": "markdown",
   "metadata": {},
   "source": [
    "### Test"
   ]
  },
  {
   "cell_type": "code",
   "execution_count": 19,
   "metadata": {},
   "outputs": [
    {
     "name": "stdout",
     "output_type": "stream",
     "text": [
      "3970/3970 [==============================] - 50s 13ms/step\n",
      "Loss: 0.140130\n",
      "Accuracy: 0.955164\n"
     ]
    }
   ],
   "source": [
    "test_metrics = model.evaluate(x=X_test, y=y_test)\n",
    "print(\"Loss: %f\" % test_metrics[0])\n",
    "print(\"Accuracy: %f\" % test_metrics[1])"
   ]
  },
  {
   "cell_type": "markdown",
   "metadata": {},
   "source": [
    "#### Confusion Matrix"
   ]
  },
  {
   "cell_type": "code",
   "execution_count": 20,
   "metadata": {},
   "outputs": [
    {
     "data": {
      "image/png": "[encoded data removed]",
      "text/plain": [
       "<Figure size 432x288 with 2 Axes>"
      ]
     },
     "metadata": {
      "needs_background": "light"
     },
     "output_type": "display_data"
    }
   ],
   "source": [
    "y_pred = [1 if i > 0.5 else 0 for i in model.predict(X_test)]\n",
    "\n",
    "cm = confusion_matrix(y_test, y_pred)\n",
    "classes = [0, 1]\n",
    "\n",
    "# https://scikit-learn.org/stable/auto_examples/model_selection/plot_confusion_matrix.html\n",
    "fig, ax = plt.subplots()\n",
    "im = ax.imshow(cm, interpolation='nearest', cmap=plt.cm.Blues)\n",
    "ax.figure.colorbar(im, ax=ax)\n",
    "\n",
    "# We want to show all ticks...\n",
    "ax.set(xticks=np.arange(cm.shape[1]),\n",
    "       yticks=np.arange(cm.shape[0]),\n",
    "       # ... and label them with the respective list entries\n",
    "       xticklabels=classes, yticklabels=classes,\n",
    "       title=\"Confusion Matrix\",\n",
    "       ylabel='True label',\n",
    "       xlabel='Predicted label')\n",
    "\n",
    "# Rotate the tick labels and set their alignment.\n",
    "plt.setp(ax.get_xticklabels(), rotation=45, ha=\"right\", rotation_mode=\"anchor\")\n",
    "\n",
    "# Loop over data dimensions and create text annotations.\n",
    "thresh = cm.max() / 2.\n",
    "for i in range(cm.shape[0]):\n",
    "    for j in range(cm.shape[1]):\n",
    "        ax.text(j, i, format(cm[i, j], 'd'),\n",
    "                ha=\"center\", va=\"center\",\n",
    "                color=\"white\" if cm[i, j] > thresh else \"black\")\n",
    "fig.tight_layout()"
   ]
  },
  {
   "cell_type": "code",
   "execution_count": 21,
   "metadata": {},
   "outputs": [
    {
     "name": "stdout",
     "output_type": "stream",
     "text": [
      "Precision: 0.909563\n",
      "Recal: 0.905797\n"
     ]
    }
   ],
   "source": [
    "print(\"Precision: %f\" % (cm[1][1] / (cm[1][1] + cm[0][1])))\n",
    "print(\"Recal: %f\" % (cm[1][1] / (cm[1][1] + cm[1][0])))"
   ]
  },
  {
   "cell_type": "markdown",
   "metadata": {},
   "source": [
    "### Saving the model"
   ]
  },
  {
   "cell_type": "code",
   "execution_count": 22,
   "metadata": {},
   "outputs": [],
   "source": [
    "model_name_version = \"spam_detector-%i\" % time.time()"
   ]
  },
  {
   "cell_type": "code",
   "execution_count": 23,
   "metadata": {},
   "outputs": [],
   "source": [
    "model.save_weights(\"%s.h5\" % model_name_version)\n",
    "# model.load_weights(\"%s.h5\" % model_name_version, by_name=True)"
   ]
  },
  {
   "cell_type": "code",
   "execution_count": 24,
   "metadata": {
    "scrolled": false
   },
   "outputs": [
    {
     "name": "stdout",
     "output_type": "stream",
     "text": [
      "WARNING:tensorflow:From /usr/local/lib/python3.5/dist-packages/tensorflow/python/saved_model/signature_def_utils_impl.py:205: build_tensor_info (from tensorflow.python.saved_model.utils_impl) is deprecated and will be removed in a future version.\n",
      "Instructions for updating:\n",
      "This function will only be available through the v1 compatibility library as tf.compat.v1.saved_model.utils.build_tensor_info or tf.compat.v1.saved_model.build_tensor_info.\n",
      "{\n",
      "    \"graph_output_name\": \"output_node0\",\n",
      "    \"input_dtype\": \"float32\",\n",
      "    \"input_name\": \"lstm_1_input:0\",\n",
      "    \"input_shape\": [\n",
      "        null,\n",
      "        300,\n",
      "        1\n",
      "    ],\n",
      "    \"keyword_index\": {},\n",
      "    \"max_sequence_length\": 300,\n",
      "    \"method_name\": \"tensorflow/serving/predict\",\n",
      "    \"output_dtype\": \"float32\",\n",
      "    \"output_name\": \"dense_1/Sigmoid:0\",\n",
      "    \"output_shape\": [\n",
      "        null,\n",
      "        1\n",
      "    ]\n",
      "}\n",
      "INFO:tensorflow:No assets to save.\n",
      "INFO:tensorflow:No assets to write.\n",
      "INFO:tensorflow:SavedModel written to: ./spam_detector-1554147249/saved_model.pb\n"
     ]
    }
   ],
   "source": [
    "output_node_names = ['output_node0']\n",
    "tf.identity(model.output[0], name=output_node_names[0])\n",
    "\n",
    "signature = predict_signature_def(\n",
    "    inputs={\"inputs\": model.input}, \n",
    "    outputs={\"outputs\": model.output}\n",
    ")\n",
    "valid_prediction_signature = tf.saved_model.signature_def_utils.is_valid_signature(signature)\n",
    "if(valid_prediction_signature == False):\n",
    "    raise ValueError(\"Error: Prediction signature not valid!\")\n",
    "\n",
    "model_parameters = {\n",
    "    \"input_name\": model.input.name,\n",
    "    \"input_dtype\": model.input.dtype.as_numpy_dtype().__class__.__name__,\n",
    "    \"input_shape\": model.input.shape.as_list(),\n",
    "    \"graph_output_name\": output_node_names[0],\n",
    "    \"output_name\": model.output.name,\n",
    "    \"output_dtype\": model.output.dtype.as_numpy_dtype().__class__.__name__,\n",
    "    \"output_shape\": model.output.shape.as_list(),   \n",
    "    \"method_name\": str(signature.method_name),\n",
    "    \"max_sequence_length\": max_sequence_length,\n",
    "    \"keyword_index\": {},\n",
    "}\n",
    "print(json.dumps(model_parameters, indent=4, sort_keys=True))\n",
    "\n",
    "model_parameters[\"keyword_index\"] = tokenizer.index_word\n",
    "\n",
    "with open(\"%s.json\" % model_name_version, 'w') as f:\n",
    "    f.write(json.dumps(model_parameters, indent=4, sort_keys=True))\n",
    "\n",
    "with open(\"%s.json\" % model_name_version, 'w') as f:\n",
    "    f.write(json.dumps(model_parameters, indent=4, sort_keys=True))\n",
    "    \n",
    "builder = saved_model_builder.SavedModelBuilder(\"./%s/\" % model_name_version)\n",
    "\n",
    "with K.get_session() as sess:\n",
    "    \n",
    "    # save model\n",
    "    builder.add_meta_graph_and_variables(\n",
    "        sess=sess, \n",
    "        tags=[tag_constants.SERVING], \n",
    "        signature_def_map={\n",
    "            signature_constants.DEFAULT_SERVING_SIGNATURE_DEF_KEY: signature\n",
    "        }\n",
    "    )\n",
    "    builder.save()\n"
   ]
  },
  {
   "cell_type": "code",
   "execution_count": null,
   "metadata": {},
   "outputs": [],
   "source": []
  }
 ],
 "metadata": {
  "kernelspec": {
   "display_name": "Python 3",
   "language": "python",
   "name": "python3"
  },
  "language_info": {
   "codemirror_mode": {
    "name": "ipython",
    "version": 3
   },
   "file_extension": ".py",
   "mimetype": "text/x-python",
   "name": "python",
   "nbconvert_exporter": "python",
   "pygments_lexer": "ipython3",
   "version": "3.5.2"
  }
 },
 "nbformat": 4,
 "nbformat_minor": 2
}
